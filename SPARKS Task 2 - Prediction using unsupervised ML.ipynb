{
 "cells": [
  {
   "cell_type": "markdown",
   "id": "9983a9ef",
   "metadata": {},
   "source": [
    "## <font color='blue'> The Sparks Foundation | @ GRIPNovember 2022 </font>"
   ]
  },
  {
   "cell_type": "markdown",
   "id": "7f4b70d3",
   "metadata": {},
   "source": [
    "### <font color='black'> Data Science & Business Analytics Tasks </font>\n",
    "\n",
    "TASK 2 - Prediction using unsupervised ML"
   ]
  },
  {
   "cell_type": "code",
   "execution_count": 1,
   "id": "d313beaa",
   "metadata": {},
   "outputs": [],
   "source": [
    "import pandas as pd\n",
    "import numpy as np\n",
    "import plotly.express as px\n",
    "import matplotlib.pyplot as plt\n",
    "import seaborn as sns\n",
    "import warnings\n",
    "warnings.filterwarnings('ignore')"
   ]
  },
  {
   "cell_type": "code",
   "execution_count": 2,
   "id": "f594ea56",
   "metadata": {},
   "outputs": [],
   "source": [
    "import os\n",
    "os.getcwd()\n",
    "os.chdir(\"C:\\\\Users\\\\msair\\\\Downloads\") # change directory"
   ]
  },
  {
   "cell_type": "code",
   "execution_count": 3,
   "id": "c1726ba3",
   "metadata": {},
   "outputs": [
    {
     "data": {
      "text/html": [
       "<div>\n",
       "<style scoped>\n",
       "    .dataframe tbody tr th:only-of-type {\n",
       "        vertical-align: middle;\n",
       "    }\n",
       "\n",
       "    .dataframe tbody tr th {\n",
       "        vertical-align: top;\n",
       "    }\n",
       "\n",
       "    .dataframe thead th {\n",
       "        text-align: right;\n",
       "    }\n",
       "</style>\n",
       "<table border=\"1\" class=\"dataframe\">\n",
       "  <thead>\n",
       "    <tr style=\"text-align: right;\">\n",
       "      <th></th>\n",
       "      <th>Id</th>\n",
       "      <th>SepalLengthCm</th>\n",
       "      <th>SepalWidthCm</th>\n",
       "      <th>PetalLengthCm</th>\n",
       "      <th>PetalWidthCm</th>\n",
       "      <th>Species</th>\n",
       "    </tr>\n",
       "  </thead>\n",
       "  <tbody>\n",
       "    <tr>\n",
       "      <th>0</th>\n",
       "      <td>1</td>\n",
       "      <td>5.1</td>\n",
       "      <td>3.5</td>\n",
       "      <td>1.4</td>\n",
       "      <td>0.2</td>\n",
       "      <td>Iris-setosa</td>\n",
       "    </tr>\n",
       "    <tr>\n",
       "      <th>1</th>\n",
       "      <td>2</td>\n",
       "      <td>4.9</td>\n",
       "      <td>3.0</td>\n",
       "      <td>1.4</td>\n",
       "      <td>0.2</td>\n",
       "      <td>Iris-setosa</td>\n",
       "    </tr>\n",
       "    <tr>\n",
       "      <th>2</th>\n",
       "      <td>3</td>\n",
       "      <td>4.7</td>\n",
       "      <td>3.2</td>\n",
       "      <td>1.3</td>\n",
       "      <td>0.2</td>\n",
       "      <td>Iris-setosa</td>\n",
       "    </tr>\n",
       "    <tr>\n",
       "      <th>3</th>\n",
       "      <td>4</td>\n",
       "      <td>4.6</td>\n",
       "      <td>3.1</td>\n",
       "      <td>1.5</td>\n",
       "      <td>0.2</td>\n",
       "      <td>Iris-setosa</td>\n",
       "    </tr>\n",
       "    <tr>\n",
       "      <th>4</th>\n",
       "      <td>5</td>\n",
       "      <td>5.0</td>\n",
       "      <td>3.6</td>\n",
       "      <td>1.4</td>\n",
       "      <td>0.2</td>\n",
       "      <td>Iris-setosa</td>\n",
       "    </tr>\n",
       "  </tbody>\n",
       "</table>\n",
       "</div>"
      ],
      "text/plain": [
       "   Id  SepalLengthCm  SepalWidthCm  PetalLengthCm  PetalWidthCm      Species\n",
       "0   1            5.1           3.5            1.4           0.2  Iris-setosa\n",
       "1   2            4.9           3.0            1.4           0.2  Iris-setosa\n",
       "2   3            4.7           3.2            1.3           0.2  Iris-setosa\n",
       "3   4            4.6           3.1            1.5           0.2  Iris-setosa\n",
       "4   5            5.0           3.6            1.4           0.2  Iris-setosa"
      ]
     },
     "execution_count": 3,
     "metadata": {},
     "output_type": "execute_result"
    }
   ],
   "source": [
    "iris_df= pd.read_csv('Iris.csv')\n",
    "iris_df.head()"
   ]
  },
  {
   "cell_type": "code",
   "execution_count": 4,
   "id": "e87db661",
   "metadata": {},
   "outputs": [
    {
     "name": "stdout",
     "output_type": "stream",
     "text": [
      "<class 'pandas.core.frame.DataFrame'>\n",
      "RangeIndex: 150 entries, 0 to 149\n",
      "Data columns (total 6 columns):\n",
      " #   Column         Non-Null Count  Dtype  \n",
      "---  ------         --------------  -----  \n",
      " 0   Id             150 non-null    int64  \n",
      " 1   SepalLengthCm  150 non-null    float64\n",
      " 2   SepalWidthCm   150 non-null    float64\n",
      " 3   PetalLengthCm  150 non-null    float64\n",
      " 4   PetalWidthCm   150 non-null    float64\n",
      " 5   Species        150 non-null    object \n",
      "dtypes: float64(4), int64(1), object(1)\n",
      "memory usage: 7.2+ KB\n"
     ]
    }
   ],
   "source": [
    "iris_df.info()"
   ]
  },
  {
   "cell_type": "code",
   "execution_count": 5,
   "id": "eae51c99",
   "metadata": {},
   "outputs": [
    {
     "data": {
      "text/plain": [
       "Index(['Id', 'SepalLengthCm', 'SepalWidthCm', 'PetalLengthCm', 'PetalWidthCm',\n",
       "       'Species'],\n",
       "      dtype='object')"
      ]
     },
     "execution_count": 5,
     "metadata": {},
     "output_type": "execute_result"
    }
   ],
   "source": [
    "iris_df.columns"
   ]
  },
  {
   "cell_type": "code",
   "execution_count": 6,
   "id": "5a988cf5",
   "metadata": {},
   "outputs": [
    {
     "data": {
      "text/plain": [
       "(150, 6)"
      ]
     },
     "execution_count": 6,
     "metadata": {},
     "output_type": "execute_result"
    }
   ],
   "source": [
    "iris_df.shape"
   ]
  },
  {
   "cell_type": "code",
   "execution_count": 7,
   "id": "3126410f",
   "metadata": {},
   "outputs": [
    {
     "data": {
      "text/plain": [
       "Id               False\n",
       "SepalLengthCm    False\n",
       "SepalWidthCm     False\n",
       "PetalLengthCm    False\n",
       "PetalWidthCm     False\n",
       "Species          False\n",
       "dtype: bool"
      ]
     },
     "execution_count": 7,
     "metadata": {},
     "output_type": "execute_result"
    }
   ],
   "source": [
    "iris_df.isnull().any()"
   ]
  },
  {
   "cell_type": "code",
   "execution_count": 8,
   "id": "0d6f4924",
   "metadata": {},
   "outputs": [
    {
     "data": {
      "text/plain": [
       "Id               0\n",
       "SepalLengthCm    0\n",
       "SepalWidthCm     0\n",
       "PetalLengthCm    0\n",
       "PetalWidthCm     0\n",
       "Species          0\n",
       "dtype: int64"
      ]
     },
     "execution_count": 8,
     "metadata": {},
     "output_type": "execute_result"
    }
   ],
   "source": [
    "iris_df.isnull().sum()"
   ]
  },
  {
   "cell_type": "markdown",
   "id": "b08c45b6",
   "metadata": {},
   "source": [
    "**Data Cleaning**"
   ]
  },
  {
   "cell_type": "code",
   "execution_count": 9,
   "id": "2505de85",
   "metadata": {},
   "outputs": [
    {
     "data": {
      "text/plain": [
       "Iris-setosa        50\n",
       "Iris-versicolor    50\n",
       "Iris-virginica     50\n",
       "Name: Species, dtype: int64"
      ]
     },
     "execution_count": 9,
     "metadata": {},
     "output_type": "execute_result"
    }
   ],
   "source": [
    "iris_df.Species.value_counts()"
   ]
  },
  {
   "cell_type": "code",
   "execution_count": 10,
   "id": "00449c69",
   "metadata": {},
   "outputs": [],
   "source": [
    " #Dropping the Id Column as it is not required\n",
    "iris_df.drop('Id' , axis = 1 , inplace = True) "
   ]
  },
  {
   "cell_type": "code",
   "execution_count": 11,
   "id": "bc2de391",
   "metadata": {},
   "outputs": [
    {
     "data": {
      "text/plain": [
       "(150, 5)"
      ]
     },
     "execution_count": 11,
     "metadata": {},
     "output_type": "execute_result"
    }
   ],
   "source": [
    "iris_df.shape"
   ]
  },
  {
   "cell_type": "code",
   "execution_count": 12,
   "id": "c7264489",
   "metadata": {},
   "outputs": [
    {
     "data": {
      "text/html": [
       "<div>\n",
       "<style scoped>\n",
       "    .dataframe tbody tr th:only-of-type {\n",
       "        vertical-align: middle;\n",
       "    }\n",
       "\n",
       "    .dataframe tbody tr th {\n",
       "        vertical-align: top;\n",
       "    }\n",
       "\n",
       "    .dataframe thead th {\n",
       "        text-align: right;\n",
       "    }\n",
       "</style>\n",
       "<table border=\"1\" class=\"dataframe\">\n",
       "  <thead>\n",
       "    <tr style=\"text-align: right;\">\n",
       "      <th></th>\n",
       "      <th>SepalLengthCm</th>\n",
       "      <th>SepalWidthCm</th>\n",
       "      <th>PetalLengthCm</th>\n",
       "      <th>PetalWidthCm</th>\n",
       "    </tr>\n",
       "  </thead>\n",
       "  <tbody>\n",
       "    <tr>\n",
       "      <th>count</th>\n",
       "      <td>150.000000</td>\n",
       "      <td>150.000000</td>\n",
       "      <td>150.000000</td>\n",
       "      <td>150.000000</td>\n",
       "    </tr>\n",
       "    <tr>\n",
       "      <th>mean</th>\n",
       "      <td>5.843333</td>\n",
       "      <td>3.054000</td>\n",
       "      <td>3.758667</td>\n",
       "      <td>1.198667</td>\n",
       "    </tr>\n",
       "    <tr>\n",
       "      <th>std</th>\n",
       "      <td>0.828066</td>\n",
       "      <td>0.433594</td>\n",
       "      <td>1.764420</td>\n",
       "      <td>0.763161</td>\n",
       "    </tr>\n",
       "    <tr>\n",
       "      <th>min</th>\n",
       "      <td>4.300000</td>\n",
       "      <td>2.000000</td>\n",
       "      <td>1.000000</td>\n",
       "      <td>0.100000</td>\n",
       "    </tr>\n",
       "    <tr>\n",
       "      <th>25%</th>\n",
       "      <td>5.100000</td>\n",
       "      <td>2.800000</td>\n",
       "      <td>1.600000</td>\n",
       "      <td>0.300000</td>\n",
       "    </tr>\n",
       "    <tr>\n",
       "      <th>50%</th>\n",
       "      <td>5.800000</td>\n",
       "      <td>3.000000</td>\n",
       "      <td>4.350000</td>\n",
       "      <td>1.300000</td>\n",
       "    </tr>\n",
       "    <tr>\n",
       "      <th>75%</th>\n",
       "      <td>6.400000</td>\n",
       "      <td>3.300000</td>\n",
       "      <td>5.100000</td>\n",
       "      <td>1.800000</td>\n",
       "    </tr>\n",
       "    <tr>\n",
       "      <th>max</th>\n",
       "      <td>7.900000</td>\n",
       "      <td>4.400000</td>\n",
       "      <td>6.900000</td>\n",
       "      <td>2.500000</td>\n",
       "    </tr>\n",
       "  </tbody>\n",
       "</table>\n",
       "</div>"
      ],
      "text/plain": [
       "       SepalLengthCm  SepalWidthCm  PetalLengthCm  PetalWidthCm\n",
       "count     150.000000    150.000000     150.000000    150.000000\n",
       "mean        5.843333      3.054000       3.758667      1.198667\n",
       "std         0.828066      0.433594       1.764420      0.763161\n",
       "min         4.300000      2.000000       1.000000      0.100000\n",
       "25%         5.100000      2.800000       1.600000      0.300000\n",
       "50%         5.800000      3.000000       4.350000      1.300000\n",
       "75%         6.400000      3.300000       5.100000      1.800000\n",
       "max         7.900000      4.400000       6.900000      2.500000"
      ]
     },
     "execution_count": 12,
     "metadata": {},
     "output_type": "execute_result"
    }
   ],
   "source": [
    "iris_df.describe()"
   ]
  },
  {
   "cell_type": "markdown",
   "id": "3495b863",
   "metadata": {},
   "source": [
    "**Check for duplicate data**"
   ]
  },
  {
   "cell_type": "code",
   "execution_count": 13,
   "id": "08d024a5",
   "metadata": {},
   "outputs": [
    {
     "name": "stdout",
     "output_type": "stream",
     "text": [
      "Number of duplicate rows = 3\n"
     ]
    },
    {
     "data": {
      "text/html": [
       "<div>\n",
       "<style scoped>\n",
       "    .dataframe tbody tr th:only-of-type {\n",
       "        vertical-align: middle;\n",
       "    }\n",
       "\n",
       "    .dataframe tbody tr th {\n",
       "        vertical-align: top;\n",
       "    }\n",
       "\n",
       "    .dataframe thead th {\n",
       "        text-align: right;\n",
       "    }\n",
       "</style>\n",
       "<table border=\"1\" class=\"dataframe\">\n",
       "  <thead>\n",
       "    <tr style=\"text-align: right;\">\n",
       "      <th></th>\n",
       "      <th>SepalLengthCm</th>\n",
       "      <th>SepalWidthCm</th>\n",
       "      <th>PetalLengthCm</th>\n",
       "      <th>PetalWidthCm</th>\n",
       "      <th>Species</th>\n",
       "    </tr>\n",
       "  </thead>\n",
       "  <tbody>\n",
       "    <tr>\n",
       "      <th>34</th>\n",
       "      <td>4.9</td>\n",
       "      <td>3.1</td>\n",
       "      <td>1.5</td>\n",
       "      <td>0.1</td>\n",
       "      <td>Iris-setosa</td>\n",
       "    </tr>\n",
       "    <tr>\n",
       "      <th>37</th>\n",
       "      <td>4.9</td>\n",
       "      <td>3.1</td>\n",
       "      <td>1.5</td>\n",
       "      <td>0.1</td>\n",
       "      <td>Iris-setosa</td>\n",
       "    </tr>\n",
       "    <tr>\n",
       "      <th>142</th>\n",
       "      <td>5.8</td>\n",
       "      <td>2.7</td>\n",
       "      <td>5.1</td>\n",
       "      <td>1.9</td>\n",
       "      <td>Iris-virginica</td>\n",
       "    </tr>\n",
       "  </tbody>\n",
       "</table>\n",
       "</div>"
      ],
      "text/plain": [
       "     SepalLengthCm  SepalWidthCm  PetalLengthCm  PetalWidthCm         Species\n",
       "34             4.9           3.1            1.5           0.1     Iris-setosa\n",
       "37             4.9           3.1            1.5           0.1     Iris-setosa\n",
       "142            5.8           2.7            5.1           1.9  Iris-virginica"
      ]
     },
     "execution_count": 13,
     "metadata": {},
     "output_type": "execute_result"
    }
   ],
   "source": [
    "dups = iris_df.duplicated()\n",
    "print('Number of duplicate rows = %d' % (dups.sum()))\n",
    "iris_df[dups]"
   ]
  },
  {
   "cell_type": "markdown",
   "id": "28fdc66d",
   "metadata": {},
   "source": [
    "**Removing Duplicates**"
   ]
  },
  {
   "cell_type": "code",
   "execution_count": 14,
   "id": "f90ba5f4",
   "metadata": {},
   "outputs": [],
   "source": [
    "iris_df.drop_duplicates(inplace=True) "
   ]
  },
  {
   "cell_type": "code",
   "execution_count": 15,
   "id": "4264ae1f",
   "metadata": {},
   "outputs": [
    {
     "name": "stdout",
     "output_type": "stream",
     "text": [
      "Number of duplicate rows = 0\n",
      "(147, 5)\n"
     ]
    }
   ],
   "source": [
    "dups = iris_df.duplicated()\n",
    "print('Number of duplicate rows = %d' % (dups.sum()))\n",
    "print(iris_df.shape)"
   ]
  },
  {
   "cell_type": "markdown",
   "id": "c305cf26",
   "metadata": {},
   "source": [
    "**EDA**"
   ]
  },
  {
   "cell_type": "code",
   "execution_count": 17,
   "id": "1f7e96d1",
   "metadata": {},
   "outputs": [
    {
     "data": {
      "image/png": "[encoded data removed]",
      "text/plain": [
       "<Figure size 2160x2880 with 4 Axes>"
      ]
     },
     "metadata": {
      "needs_background": "light"
     },
     "output_type": "display_data"
    }
   ],
   "source": [
    "plt.figure(figsize = (30,40))\n",
    "feature = iris_df.columns[:-1]\n",
    "for i in enumerate(feature):\n",
    "    plt.subplot(6,3, i[0]+1)\n",
    "    sns.distplot(iris_df[i[1]])"
   ]
  },
  {
   "cell_type": "markdown",
   "id": "4c834f70",
   "metadata": {},
   "source": [
    "**Checking for Outliers**"
   ]
  },
  {
   "cell_type": "code",
   "execution_count": 18,
   "id": "0ed00de3",
   "metadata": {},
   "outputs": [
    {
     "data": {
      "image/png": "[encoded data removed]",
      "text/plain": [
       "<Figure size 2160x2880 with 4 Axes>"
      ]
     },
     "metadata": {
      "needs_background": "light"
     },
     "output_type": "display_data"
    }
   ],
   "source": [
    "plt.figure(figsize = (30,40))\n",
    "feature = iris_df.columns[:-1]\n",
    "for i in enumerate(feature):\n",
    "    plt.subplot(6,3, i[0]+1)\n",
    "    sns.boxplot(iris_df[i[1]])"
   ]
  },
  {
   "cell_type": "code",
   "execution_count": 19,
   "id": "5a515b40",
   "metadata": {},
   "outputs": [],
   "source": [
    "# To remove outliers from 'sepal width (cm)'\n",
    "q1 = iris_df['SepalWidthCm'].quantile(0.25)\n",
    "q3 = iris_df['SepalWidthCm'].quantile(0.75) "
   ]
  },
  {
   "cell_type": "code",
   "execution_count": 20,
   "id": "b3106afa",
   "metadata": {},
   "outputs": [
    {
     "data": {
      "text/plain": [
       "(143, 5)"
      ]
     },
     "execution_count": 20,
     "metadata": {},
     "output_type": "execute_result"
    }
   ],
   "source": [
    "# To find the number of rows and columns after outlier treatment\n",
    "iqr = q3 - q1\n",
    "iris_df = iris_df[(iris_df['SepalWidthCm'] >= q1-1.5*iqr) & (iris_df['SepalWidthCm'] <= q3+1.5*iqr)]\n",
    "iris_df.shape # To find out the number of rows and columns after outlier treatment"
   ]
  },
  {
   "cell_type": "markdown",
   "id": "ef24f140",
   "metadata": {},
   "source": [
    "We can see that after outlier treatment the number of rows are reduced to 147 from 150"
   ]
  },
  {
   "cell_type": "code",
   "execution_count": 21,
   "id": "481600a6",
   "metadata": {},
   "outputs": [
    {
     "data": {
      "image/png": "[encoded data removed]",
      "text/plain": [
       "<Figure size 432x288 with 1 Axes>"
      ]
     },
     "metadata": {
      "needs_background": "light"
     },
     "output_type": "display_data"
    }
   ],
   "source": [
    "# Boxplot for sepal width (cm) after outlier treatment\n",
    "sns.boxplot(x = iris_df['SepalWidthCm'])\n",
    "plt.show()"
   ]
  },
  {
   "cell_type": "markdown",
   "id": "9b81ad0e",
   "metadata": {},
   "source": [
    "**Checking for Correlations**"
   ]
  },
  {
   "cell_type": "code",
   "execution_count": 92,
   "id": "a7f5c433",
   "metadata": {},
   "outputs": [
    {
     "data": {
      "text/html": [
       "<div>\n",
       "<style scoped>\n",
       "    .dataframe tbody tr th:only-of-type {\n",
       "        vertical-align: middle;\n",
       "    }\n",
       "\n",
       "    .dataframe tbody tr th {\n",
       "        vertical-align: top;\n",
       "    }\n",
       "\n",
       "    .dataframe thead th {\n",
       "        text-align: right;\n",
       "    }\n",
       "</style>\n",
       "<table border=\"1\" class=\"dataframe\">\n",
       "  <thead>\n",
       "    <tr style=\"text-align: right;\">\n",
       "      <th></th>\n",
       "      <th>SepalLengthCm</th>\n",
       "      <th>SepalWidthCm</th>\n",
       "      <th>PetalLengthCm</th>\n",
       "      <th>PetalWidthCm</th>\n",
       "      <th>Species</th>\n",
       "      <th>Clus_kmeans4</th>\n",
       "      <th>Agglo_CLusters</th>\n",
       "    </tr>\n",
       "  </thead>\n",
       "  <tbody>\n",
       "    <tr>\n",
       "      <th>SepalLengthCm</th>\n",
       "      <td>1.000000</td>\n",
       "      <td>-0.113268</td>\n",
       "      <td>0.879015</td>\n",
       "      <td>0.821715</td>\n",
       "      <td>0.788414</td>\n",
       "      <td>0.739499</td>\n",
       "      <td>0.455243</td>\n",
       "    </tr>\n",
       "    <tr>\n",
       "      <th>SepalWidthCm</th>\n",
       "      <td>-0.113268</td>\n",
       "      <td>1.000000</td>\n",
       "      <td>-0.396539</td>\n",
       "      <td>-0.328102</td>\n",
       "      <td>-0.394815</td>\n",
       "      <td>-0.340957</td>\n",
       "      <td>-0.683696</td>\n",
       "    </tr>\n",
       "    <tr>\n",
       "      <th>PetalLengthCm</th>\n",
       "      <td>0.879015</td>\n",
       "      <td>-0.396539</td>\n",
       "      <td>1.000000</td>\n",
       "      <td>0.960785</td>\n",
       "      <td>0.946668</td>\n",
       "      <td>0.797627</td>\n",
       "      <td>0.713293</td>\n",
       "    </tr>\n",
       "    <tr>\n",
       "      <th>PetalWidthCm</th>\n",
       "      <td>0.821715</td>\n",
       "      <td>-0.328102</td>\n",
       "      <td>0.960785</td>\n",
       "      <td>1.000000</td>\n",
       "      <td>0.954711</td>\n",
       "      <td>0.792951</td>\n",
       "      <td>0.660318</td>\n",
       "    </tr>\n",
       "    <tr>\n",
       "      <th>Species</th>\n",
       "      <td>0.788414</td>\n",
       "      <td>-0.394815</td>\n",
       "      <td>0.946668</td>\n",
       "      <td>0.954711</td>\n",
       "      <td>1.000000</td>\n",
       "      <td>0.770376</td>\n",
       "      <td>0.652762</td>\n",
       "    </tr>\n",
       "    <tr>\n",
       "      <th>Clus_kmeans4</th>\n",
       "      <td>0.739499</td>\n",
       "      <td>-0.340957</td>\n",
       "      <td>0.797627</td>\n",
       "      <td>0.792951</td>\n",
       "      <td>0.770376</td>\n",
       "      <td>1.000000</td>\n",
       "      <td>0.414840</td>\n",
       "    </tr>\n",
       "    <tr>\n",
       "      <th>Agglo_CLusters</th>\n",
       "      <td>0.455243</td>\n",
       "      <td>-0.683696</td>\n",
       "      <td>0.713293</td>\n",
       "      <td>0.660318</td>\n",
       "      <td>0.652762</td>\n",
       "      <td>0.414840</td>\n",
       "      <td>1.000000</td>\n",
       "    </tr>\n",
       "  </tbody>\n",
       "</table>\n",
       "</div>"
      ],
      "text/plain": [
       "                SepalLengthCm  SepalWidthCm  PetalLengthCm  PetalWidthCm  \\\n",
       "SepalLengthCm        1.000000     -0.113268       0.879015      0.821715   \n",
       "SepalWidthCm        -0.113268      1.000000      -0.396539     -0.328102   \n",
       "PetalLengthCm        0.879015     -0.396539       1.000000      0.960785   \n",
       "PetalWidthCm         0.821715     -0.328102       0.960785      1.000000   \n",
       "Species              0.788414     -0.394815       0.946668      0.954711   \n",
       "Clus_kmeans4         0.739499     -0.340957       0.797627      0.792951   \n",
       "Agglo_CLusters       0.455243     -0.683696       0.713293      0.660318   \n",
       "\n",
       "                 Species  Clus_kmeans4  Agglo_CLusters  \n",
       "SepalLengthCm   0.788414      0.739499        0.455243  \n",
       "SepalWidthCm   -0.394815     -0.340957       -0.683696  \n",
       "PetalLengthCm   0.946668      0.797627        0.713293  \n",
       "PetalWidthCm    0.954711      0.792951        0.660318  \n",
       "Species         1.000000      0.770376        0.652762  \n",
       "Clus_kmeans4    0.770376      1.000000        0.414840  \n",
       "Agglo_CLusters  0.652762      0.414840        1.000000  "
      ]
     },
     "execution_count": 92,
     "metadata": {},
     "output_type": "execute_result"
    }
   ],
   "source": [
    "iris_df.corr()"
   ]
  },
  {
   "cell_type": "code",
   "execution_count": 22,
   "id": "2328dadb",
   "metadata": {},
   "outputs": [
    {
     "data": {
      "image/png": "[encoded data removed]",
      "text/plain": [
       "<Figure size 720x360 with 2 Axes>"
      ]
     },
     "metadata": {
      "needs_background": "light"
     },
     "output_type": "display_data"
    }
   ],
   "source": [
    "plt.figure(figsize=(10,5))\n",
    "sns.heatmap(iris_df.corr(),annot=True,linewidth=0.5,linecolor=\"black\");"
   ]
  },
  {
   "cell_type": "code",
   "execution_count": 23,
   "id": "fd034094",
   "metadata": {},
   "outputs": [
    {
     "data": {
      "text/plain": [
       "SepalLengthCm    float64\n",
       "SepalWidthCm     float64\n",
       "PetalLengthCm    float64\n",
       "PetalWidthCm     float64\n",
       "Species           object\n",
       "dtype: object"
      ]
     },
     "execution_count": 23,
     "metadata": {},
     "output_type": "execute_result"
    }
   ],
   "source": [
    "iris_df.dtypes"
   ]
  },
  {
   "cell_type": "code",
   "execution_count": 24,
   "id": "baa69888",
   "metadata": {},
   "outputs": [
    {
     "name": "stdout",
     "output_type": "stream",
     "text": [
      "\n",
      "\n",
      "feature: Species\n",
      "['Iris-setosa', 'Iris-versicolor', 'Iris-virginica']\n",
      "Categories (3, object): ['Iris-setosa', 'Iris-versicolor', 'Iris-virginica']\n",
      "[0 1 2]\n"
     ]
    }
   ],
   "source": [
    "for feature in iris_df.columns: \n",
    "    if iris_df[feature].dtype == 'object': \n",
    "        print('\\n')\n",
    "        print('feature:',feature)\n",
    "        print(pd.Categorical(iris_df[feature].unique()))\n",
    "        print(pd.Categorical(iris_df[feature].unique()).codes)\n",
    "        iris_df[feature] = pd.Categorical(iris_df[feature]).codes"
   ]
  },
  {
   "cell_type": "code",
   "execution_count": 25,
   "id": "fa8afab0",
   "metadata": {},
   "outputs": [
    {
     "name": "stdout",
     "output_type": "stream",
     "text": [
      "<class 'pandas.core.frame.DataFrame'>\n",
      "Int64Index: 143 entries, 0 to 149\n",
      "Data columns (total 5 columns):\n",
      " #   Column         Non-Null Count  Dtype  \n",
      "---  ------         --------------  -----  \n",
      " 0   SepalLengthCm  143 non-null    float64\n",
      " 1   SepalWidthCm   143 non-null    float64\n",
      " 2   PetalLengthCm  143 non-null    float64\n",
      " 3   PetalWidthCm   143 non-null    float64\n",
      " 4   Species        143 non-null    int8   \n",
      "dtypes: float64(4), int8(1)\n",
      "memory usage: 5.7 KB\n"
     ]
    }
   ],
   "source": [
    "iris_df.info()"
   ]
  },
  {
   "cell_type": "markdown",
   "id": "1eb127be",
   "metadata": {},
   "source": [
    "**Checking pairwise distribution of the continuous variables**"
   ]
  },
  {
   "cell_type": "code",
   "execution_count": 26,
   "id": "b99936fa",
   "metadata": {},
   "outputs": [
    {
     "data": {
      "image/png": "[encoded data removed]",
      "text/plain": [
       "<Figure size 900x900 with 30 Axes>"
      ]
     },
     "metadata": {
      "needs_background": "light"
     },
     "output_type": "display_data"
    }
   ],
   "source": [
    "sns.pairplot(iris_df[['SepalLengthCm', 'SepalWidthCm', 'PetalLengthCm', 'PetalWidthCm', 'Species']]);"
   ]
  },
  {
   "cell_type": "markdown",
   "id": "1236b417",
   "metadata": {},
   "source": [
    "**Creating Clusters using KMeans**\n",
    "\n",
    "**Forming 2 Clusters with K=2**"
   ]
  },
  {
   "cell_type": "code",
   "execution_count": 27,
   "id": "ba07e386",
   "metadata": {},
   "outputs": [],
   "source": [
    "from sklearn.preprocessing import StandardScaler\n",
    "scaler = StandardScaler()"
   ]
  },
  {
   "cell_type": "code",
   "execution_count": 28,
   "id": "c59dd7d0",
   "metadata": {},
   "outputs": [
    {
     "data": {
      "text/plain": [
       "array([[-0.92610339,  1.16307189, -1.39323729, -1.37089412],\n",
       "       [-1.16645328, -0.09692266, -1.39323729, -1.37089412],\n",
       "       [-1.40680316,  0.40707516, -1.45055401, -1.37089412],\n",
       "       [-1.5269781 ,  0.15507625, -1.33592057, -1.37089412],\n",
       "       [-1.04627834,  1.4150708 , -1.39323729, -1.37089412],\n",
       "       [-0.56557857,  2.17106752, -1.22128712, -1.10489974],\n",
       "       [-1.5269781 ,  0.91107298, -1.39323729, -1.23789693],\n",
       "       [-1.04627834,  0.91107298, -1.33592057, -1.37089412],\n",
       "       [-1.76732798, -0.34892157, -1.39323729, -1.37089412],\n",
       "       [-1.16645328,  0.15507625, -1.33592057, -1.50389132],\n",
       "       [-0.56557857,  1.66706971, -1.33592057, -1.37089412],\n",
       "       [-1.28662822,  0.91107298, -1.27860384, -1.37089412],\n",
       "       [-1.28662822, -0.09692266, -1.39323729, -1.50389132],\n",
       "       [-1.88750293, -0.09692266, -1.56518746, -1.50389132],\n",
       "       [-0.0848788 ,  2.42306643, -1.50787074, -1.37089412],\n",
       "       [-0.56557857,  2.17106752, -1.45055401, -1.10489974],\n",
       "       [-0.92610339,  1.16307189, -1.39323729, -1.23789693],\n",
       "       [-0.20505375,  1.91906862, -1.22128712, -1.23789693],\n",
       "       [-0.92610339,  1.91906862, -1.33592057, -1.23789693],\n",
       "       [-0.56557857,  0.91107298, -1.22128712, -1.37089412],\n",
       "       [-0.92610339,  1.66706971, -1.33592057, -1.10489974],\n",
       "       [-1.5269781 ,  1.4150708 , -1.62250419, -1.37089412],\n",
       "       [-0.92610339,  0.65907407, -1.22128712, -0.97190255],\n",
       "       [-1.28662822,  0.91107298, -1.10665367, -1.37089412],\n",
       "       [-1.04627834, -0.09692266, -1.27860384, -1.37089412],\n",
       "       [-1.04627834,  0.91107298, -1.27860384, -1.10489974],\n",
       "       [-0.80592845,  1.16307189, -1.33592057, -1.37089412],\n",
       "       [-0.80592845,  0.91107298, -1.39323729, -1.37089412],\n",
       "       [-1.40680316,  0.40707516, -1.27860384, -1.37089412],\n",
       "       [-1.28662822,  0.15507625, -1.27860384, -1.37089412],\n",
       "       [-0.56557857,  0.91107298, -1.33592057, -1.10489974],\n",
       "       [-1.04627834,  0.40707516, -1.50787074, -1.37089412],\n",
       "       [-0.44540363,  1.16307189, -1.45055401, -1.37089412],\n",
       "       [-1.76732798, -0.09692266, -1.45055401, -1.37089412],\n",
       "       [-0.92610339,  0.91107298, -1.33592057, -1.37089412],\n",
       "       [-1.04627834,  1.16307189, -1.45055401, -1.23789693],\n",
       "       [-1.64715304, -1.86091502, -1.45055401, -1.23789693],\n",
       "       [-1.76732798,  0.40707516, -1.45055401, -1.37089412],\n",
       "       [-1.04627834,  1.16307189, -1.27860384, -0.83890536],\n",
       "       [-0.92610339,  1.91906862, -1.10665367, -1.10489974],\n",
       "       [-1.28662822, -0.09692266, -1.39323729, -1.23789693],\n",
       "       [-0.92610339,  1.91906862, -1.27860384, -1.37089412],\n",
       "       [-1.5269781 ,  0.40707516, -1.39323729, -1.37089412],\n",
       "       [-0.68575351,  1.66706971, -1.33592057, -1.37089412],\n",
       "       [-1.04627834,  0.65907407, -1.39323729, -1.37089412],\n",
       "       [ 1.35722049,  0.40707516,  0.4982146 ,  0.22507217],\n",
       "       [ 0.63617084,  0.40707516,  0.38358115,  0.35806936],\n",
       "       [ 1.23704555,  0.15507625,  0.61284805,  0.35806936],\n",
       "       [-0.44540363, -1.86091502,  0.09699753,  0.09207498],\n",
       "       [ 0.75634578, -0.60092048,  0.44089788,  0.35806936],\n",
       "       [-0.20505375, -0.60092048,  0.38358115,  0.09207498],\n",
       "       [ 0.5159959 ,  0.65907407,  0.4982146 ,  0.49106655],\n",
       "       [-1.16645328, -1.60891611, -0.30421954, -0.3069166 ],\n",
       "       [ 0.87652073, -0.34892157,  0.44089788,  0.09207498],\n",
       "       [-0.80592845, -0.85291938,  0.03968081,  0.22507217],\n",
       "       [ 0.03529614, -0.09692266,  0.21163098,  0.35806936],\n",
       "       [ 0.15547108, -2.11291393,  0.09699753, -0.3069166 ],\n",
       "       [ 0.27564602, -0.34892157,  0.4982146 ,  0.22507217],\n",
       "       [-0.32522869, -0.34892157, -0.13226936,  0.09207498],\n",
       "       [ 0.99669567,  0.15507625,  0.32626443,  0.22507217],\n",
       "       [-0.32522869, -0.09692266,  0.38358115,  0.35806936],\n",
       "       [-0.0848788 , -0.85291938,  0.15431426, -0.3069166 ],\n",
       "       [ 0.39582096, -2.11291393,  0.38358115,  0.35806936],\n",
       "       [-0.32522869, -1.3569172 ,  0.03968081, -0.1739194 ],\n",
       "       [ 0.03529614,  0.40707516,  0.55553132,  0.75706093],\n",
       "       [ 0.27564602, -0.60092048,  0.09699753,  0.09207498],\n",
       "       [ 0.5159959 , -1.3569172 ,  0.61284805,  0.35806936],\n",
       "       [ 0.27564602, -0.60092048,  0.4982146 , -0.04092221],\n",
       "       [ 0.63617084, -0.34892157,  0.2689477 ,  0.09207498],\n",
       "       [ 0.87652073, -0.09692266,  0.32626443,  0.22507217],\n",
       "       [ 1.11687061, -0.60092048,  0.55553132,  0.22507217],\n",
       "       [ 0.99669567, -0.09692266,  0.67016477,  0.62406374],\n",
       "       [ 0.15547108, -0.34892157,  0.38358115,  0.35806936],\n",
       "       [-0.20505375, -1.10491829, -0.18958609, -0.3069166 ],\n",
       "       [-0.44540363, -1.60891611, -0.01763592, -0.1739194 ],\n",
       "       [-0.44540363, -1.60891611, -0.07495264, -0.3069166 ],\n",
       "       [-0.0848788 , -0.85291938,  0.03968081, -0.04092221],\n",
       "       [ 0.15547108, -0.85291938,  0.7274815 ,  0.49106655],\n",
       "       [-0.56557857, -0.09692266,  0.38358115,  0.35806936],\n",
       "       [ 0.15547108,  0.91107298,  0.38358115,  0.49106655],\n",
       "       [ 0.99669567,  0.15507625,  0.4982146 ,  0.35806936],\n",
       "       [ 0.5159959 , -1.86091502,  0.32626443,  0.09207498],\n",
       "       [-0.32522869, -0.09692266,  0.15431426,  0.09207498],\n",
       "       [-0.44540363, -1.3569172 ,  0.09699753,  0.09207498],\n",
       "       [-0.44540363, -1.10491829,  0.32626443, -0.04092221],\n",
       "       [ 0.27564602, -0.09692266,  0.44089788,  0.22507217],\n",
       "       [-0.0848788 , -1.10491829,  0.09699753, -0.04092221],\n",
       "       [-1.04627834, -1.86091502, -0.30421954, -0.3069166 ],\n",
       "       [-0.32522869, -0.85291938,  0.21163098,  0.09207498],\n",
       "       [-0.20505375, -0.09692266,  0.21163098, -0.04092221],\n",
       "       [-0.20505375, -0.34892157,  0.21163098,  0.09207498],\n",
       "       [ 0.39582096, -0.34892157,  0.2689477 ,  0.09207498],\n",
       "       [-0.92610339, -1.3569172 , -0.47616971, -0.1739194 ],\n",
       "       [-0.20505375, -0.60092048,  0.15431426,  0.09207498],\n",
       "       [ 0.5159959 ,  0.65907407,  1.24333201,  1.68804127],\n",
       "       [-0.0848788 , -0.85291938,  0.7274815 ,  0.89005813],\n",
       "       [ 1.47739543, -0.09692266,  1.18601529,  1.15605251],\n",
       "       [ 0.5159959 , -0.34892157,  1.01406512,  0.75706093],\n",
       "       [ 0.75634578, -0.09692266,  1.12869856,  1.2890497 ],\n",
       "       [ 2.07827014, -0.09692266,  1.58723236,  1.15605251],\n",
       "       [-1.16645328, -1.3569172 ,  0.38358115,  0.62406374],\n",
       "       [ 1.71774532, -0.34892157,  1.41528218,  0.75706093],\n",
       "       [ 0.99669567, -1.3569172 ,  1.12869856,  0.75706093],\n",
       "       [ 1.59757037,  1.4150708 ,  1.30064874,  1.68804127],\n",
       "       [ 0.75634578,  0.40707516,  0.7274815 ,  1.02305532],\n",
       "       [ 0.63617084, -0.85291938,  0.84211494,  0.89005813],\n",
       "       [ 1.11687061, -0.09692266,  0.95674839,  1.15605251],\n",
       "       [-0.20505375, -1.3569172 ,  0.67016477,  1.02305532],\n",
       "       [-0.0848788 , -0.60092048,  0.7274815 ,  1.55504408],\n",
       "       [ 0.63617084,  0.40707516,  0.84211494,  1.42204689],\n",
       "       [ 0.75634578, -0.09692266,  0.95674839,  0.75706093],\n",
       "       [ 2.19844508,  1.91906862,  1.64454908,  1.2890497 ],\n",
       "       [ 2.19844508, -1.10491829,  1.75918253,  1.42204689],\n",
       "       [ 0.15547108, -2.11291393,  0.67016477,  0.35806936],\n",
       "       [ 1.23704555,  0.40707516,  1.07138184,  1.42204689],\n",
       "       [-0.32522869, -0.60092048,  0.61284805,  1.02305532],\n",
       "       [ 2.19844508, -0.60092048,  1.64454908,  1.02305532],\n",
       "       [ 0.5159959 , -0.85291938,  0.61284805,  0.75706093],\n",
       "       [ 0.99669567,  0.65907407,  1.07138184,  1.15605251],\n",
       "       [ 1.59757037,  0.40707516,  1.24333201,  0.75706093],\n",
       "       [ 0.39582096, -0.60092048,  0.55553132,  0.75706093],\n",
       "       [ 0.27564602, -0.09692266,  0.61284805,  0.75706093],\n",
       "       [ 0.63617084, -0.60092048,  1.01406512,  1.15605251],\n",
       "       [ 1.59757037, -0.09692266,  1.12869856,  0.49106655],\n",
       "       [ 1.83792026, -0.60092048,  1.30064874,  0.89005813],\n",
       "       [ 2.43879496,  1.91906862,  1.47259891,  1.02305532],\n",
       "       [ 0.63617084, -0.60092048,  1.01406512,  1.2890497 ],\n",
       "       [ 0.5159959 , -0.60092048,  0.7274815 ,  0.35806936],\n",
       "       [ 0.27564602, -1.10491829,  1.01406512,  0.22507217],\n",
       "       [ 2.19844508, -0.09692266,  1.30064874,  1.42204689],\n",
       "       [ 0.5159959 ,  0.91107298,  1.01406512,  1.55504408],\n",
       "       [ 0.63617084,  0.15507625,  0.95674839,  0.75706093],\n",
       "       [ 0.15547108, -0.09692266,  0.55553132,  0.75706093],\n",
       "       [ 1.23704555,  0.15507625,  0.89943167,  1.15605251],\n",
       "       [ 0.99669567,  0.15507625,  1.01406512,  1.55504408],\n",
       "       [ 1.23704555,  0.15507625,  0.7274815 ,  1.42204689],\n",
       "       [ 1.11687061,  0.40707516,  1.18601529,  1.42204689],\n",
       "       [ 0.99669567,  0.65907407,  1.07138184,  1.68804127],\n",
       "       [ 0.99669567, -0.09692266,  0.78479822,  1.42204689],\n",
       "       [ 0.5159959 , -1.3569172 ,  0.67016477,  0.89005813],\n",
       "       [ 0.75634578, -0.09692266,  0.78479822,  1.02305532],\n",
       "       [ 0.39582096,  0.91107298,  0.89943167,  1.42204689],\n",
       "       [ 0.03529614, -0.09692266,  0.7274815 ,  0.75706093]])"
      ]
     },
     "execution_count": 28,
     "metadata": {},
     "output_type": "execute_result"
    }
   ],
   "source": [
    "iris = scaler.fit_transform(iris_df.drop('Species' , axis = 1))\n",
    "iris"
   ]
  },
  {
   "cell_type": "code",
   "execution_count": 29,
   "id": "370e9943",
   "metadata": {},
   "outputs": [
    {
     "data": {
      "text/html": [
       "<style>#sk-container-id-1 {color: black;background-color: white;}#sk-container-id-1 pre{padding: 0;}#sk-container-id-1 div.sk-toggleable {background-color: white;}#sk-container-id-1 label.sk-toggleable__label {cursor: pointer;display: block;width: 100%;margin-bottom: 0;padding: 0.3em;box-sizing: border-box;text-align: center;}#sk-container-id-1 label.sk-toggleable__label-arrow:before {content: \"▸\";float: left;margin-right: 0.25em;color: #696969;}#sk-container-id-1 label.sk-toggleable__label-arrow:hover:before {color: black;}#sk-container-id-1 div.sk-estimator:hover label.sk-toggleable__label-arrow:before {color: black;}#sk-container-id-1 div.sk-toggleable__content {max-height: 0;max-width: 0;overflow: hidden;text-align: left;background-color: #f0f8ff;}#sk-container-id-1 div.sk-toggleable__content pre {margin: 0.2em;color: black;border-radius: 0.25em;background-color: #f0f8ff;}#sk-container-id-1 input.sk-toggleable__control:checked~div.sk-toggleable__content {max-height: 200px;max-width: 100%;overflow: auto;}#sk-container-id-1 input.sk-toggleable__control:checked~label.sk-toggleable__label-arrow:before {content: \"▾\";}#sk-container-id-1 div.sk-estimator input.sk-toggleable__control:checked~label.sk-toggleable__label {background-color: #d4ebff;}#sk-container-id-1 div.sk-label input.sk-toggleable__control:checked~label.sk-toggleable__label {background-color: #d4ebff;}#sk-container-id-1 input.sk-hidden--visually {border: 0;clip: rect(1px 1px 1px 1px);clip: rect(1px, 1px, 1px, 1px);height: 1px;margin: -1px;overflow: hidden;padding: 0;position: absolute;width: 1px;}#sk-container-id-1 div.sk-estimator {font-family: monospace;background-color: #f0f8ff;border: 1px dotted black;border-radius: 0.25em;box-sizing: border-box;margin-bottom: 0.5em;}#sk-container-id-1 div.sk-estimator:hover {background-color: #d4ebff;}#sk-container-id-1 div.sk-parallel-item::after {content: \"\";width: 100%;border-bottom: 1px solid gray;flex-grow: 1;}#sk-container-id-1 div.sk-label:hover label.sk-toggleable__label {background-color: #d4ebff;}#sk-container-id-1 div.sk-serial::before {content: \"\";position: absolute;border-left: 1px solid gray;box-sizing: border-box;top: 0;bottom: 0;left: 50%;z-index: 0;}#sk-container-id-1 div.sk-serial {display: flex;flex-direction: column;align-items: center;background-color: white;padding-right: 0.2em;padding-left: 0.2em;position: relative;}#sk-container-id-1 div.sk-item {position: relative;z-index: 1;}#sk-container-id-1 div.sk-parallel {display: flex;align-items: stretch;justify-content: center;background-color: white;position: relative;}#sk-container-id-1 div.sk-item::before, #sk-container-id-1 div.sk-parallel-item::before {content: \"\";position: absolute;border-left: 1px solid gray;box-sizing: border-box;top: 0;bottom: 0;left: 50%;z-index: -1;}#sk-container-id-1 div.sk-parallel-item {display: flex;flex-direction: column;z-index: 1;position: relative;background-color: white;}#sk-container-id-1 div.sk-parallel-item:first-child::after {align-self: flex-end;width: 50%;}#sk-container-id-1 div.sk-parallel-item:last-child::after {align-self: flex-start;width: 50%;}#sk-container-id-1 div.sk-parallel-item:only-child::after {width: 0;}#sk-container-id-1 div.sk-dashed-wrapped {border: 1px dashed gray;margin: 0 0.4em 0.5em 0.4em;box-sizing: border-box;padding-bottom: 0.4em;background-color: white;}#sk-container-id-1 div.sk-label label {font-family: monospace;font-weight: bold;display: inline-block;line-height: 1.2em;}#sk-container-id-1 div.sk-label-container {text-align: center;}#sk-container-id-1 div.sk-container {/* jupyter's `normalize.less` sets `[hidden] { display: none; }` but bootstrap.min.css set `[hidden] { display: none !important; }` so we also need the `!important` here to be able to override the default hidden behavior on the sphinx rendered scikit-learn.org. See: https://github.com/scikit-learn/scikit-learn/issues/21755 */display: inline-block !important;position: relative;}#sk-container-id-1 div.sk-text-repr-fallback {display: none;}</style><div id=\"sk-container-id-1\" class=\"sk-top-container\"><div class=\"sk-text-repr-fallback\"><pre>KMeans(n_clusters=2, random_state=1)</pre><b>In a Jupyter environment, please rerun this cell to show the HTML representation or trust the notebook. <br />On GitHub, the HTML representation is unable to render, please try loading this page with nbviewer.org.</b></div><div class=\"sk-container\" hidden><div class=\"sk-item\"><div class=\"sk-estimator sk-toggleable\"><input class=\"sk-toggleable__control sk-hidden--visually\" id=\"sk-estimator-id-1\" type=\"checkbox\" checked><label for=\"sk-estimator-id-1\" class=\"sk-toggleable__label sk-toggleable__label-arrow\">KMeans</label><div class=\"sk-toggleable__content\"><pre>KMeans(n_clusters=2, random_state=1)</pre></div></div></div></div></div>"
      ],
      "text/plain": [
       "KMeans(n_clusters=2, random_state=1)"
      ]
     },
     "execution_count": 29,
     "metadata": {},
     "output_type": "execute_result"
    }
   ],
   "source": [
    "from sklearn.cluster import KMeans\n",
    "from sklearn.metrics import silhouette_score\n",
    "k_means = KMeans(n_clusters = 2,random_state=1)\n",
    "k_means.fit(iris)"
   ]
  },
  {
   "cell_type": "markdown",
   "id": "543ed2b0",
   "metadata": {},
   "source": [
    "**Cluster Output for all the observations**\n"
   ]
  },
  {
   "cell_type": "code",
   "execution_count": 30,
   "id": "3fee0870",
   "metadata": {},
   "outputs": [
    {
     "data": {
      "text/plain": [
       "array([0, 0, 0, 0, 0, 0, 0, 0, 0, 0, 0, 0, 0, 0, 0, 0, 0, 0, 0, 0, 0, 0,\n",
       "       0, 0, 0, 0, 0, 0, 0, 0, 0, 0, 0, 0, 0, 0, 0, 0, 0, 0, 0, 0, 0, 0,\n",
       "       0, 1, 1, 1, 1, 1, 1, 1, 1, 1, 1, 1, 1, 1, 1, 1, 1, 1, 1, 1, 1, 1,\n",
       "       1, 1, 1, 1, 1, 1, 1, 1, 1, 1, 1, 1, 1, 1, 1, 1, 1, 1, 1, 1, 1, 1,\n",
       "       1, 1, 1, 1, 1, 1, 1, 1, 1, 1, 1, 1, 1, 1, 1, 1, 1, 1, 1, 1, 1, 1,\n",
       "       1, 1, 1, 1, 1, 1, 1, 1, 1, 1, 1, 1, 1, 1, 1, 1, 1, 1, 1, 1, 1, 1,\n",
       "       1, 1, 1, 1, 1, 1, 1, 1, 1, 1, 1])"
      ]
     },
     "execution_count": 30,
     "metadata": {},
     "output_type": "execute_result"
    }
   ],
   "source": [
    "# Get the labels\n",
    "k_means.labels_"
   ]
  },
  {
   "cell_type": "markdown",
   "id": "4d0832f2",
   "metadata": {},
   "source": [
    "**Within Cluster Sum of Squares**"
   ]
  },
  {
   "cell_type": "code",
   "execution_count": 31,
   "id": "313eb25a",
   "metadata": {},
   "outputs": [
    {
     "data": {
      "text/plain": [
       "216.28097971370974"
      ]
     },
     "execution_count": 31,
     "metadata": {},
     "output_type": "execute_result"
    }
   ],
   "source": [
    "k_means.inertia_"
   ]
  },
  {
   "cell_type": "markdown",
   "id": "b3faa66c",
   "metadata": {},
   "source": [
    "**Forming clusters with K = 1,3,4,5,6 and comparing the WSS**"
   ]
  },
  {
   "cell_type": "code",
   "execution_count": 32,
   "id": "d7e244dc",
   "metadata": {},
   "outputs": [
    {
     "data": {
      "text/plain": [
       "571.9999999999999"
      ]
     },
     "execution_count": 32,
     "metadata": {},
     "output_type": "execute_result"
    }
   ],
   "source": [
    "k_means = KMeans(n_clusters = 1,random_state=1)\n",
    "k_means.fit(iris)\n",
    "k_means.inertia_"
   ]
  },
  {
   "cell_type": "code",
   "execution_count": 33,
   "id": "183f4f25",
   "metadata": {},
   "outputs": [
    {
     "data": {
      "text/plain": [
       "133.09491718320885"
      ]
     },
     "execution_count": 33,
     "metadata": {},
     "output_type": "execute_result"
    }
   ],
   "source": [
    "k_means = KMeans(n_clusters = 3,random_state=1)\n",
    "k_means.fit(iris)\n",
    "k_means.inertia_"
   ]
  },
  {
   "cell_type": "code",
   "execution_count": 34,
   "id": "208ffaf7",
   "metadata": {},
   "outputs": [
    {
     "data": {
      "text/plain": [
       "108.234427656237"
      ]
     },
     "execution_count": 34,
     "metadata": {},
     "output_type": "execute_result"
    }
   ],
   "source": [
    "k_means = KMeans(n_clusters = 4,random_state=1)\n",
    "k_means.fit(iris)\n",
    "k_means.inertia_"
   ]
  },
  {
   "cell_type": "code",
   "execution_count": 35,
   "id": "ae9ac2b6",
   "metadata": {},
   "outputs": [
    {
     "data": {
      "text/plain": [
       "88.14386234336087"
      ]
     },
     "execution_count": 35,
     "metadata": {},
     "output_type": "execute_result"
    }
   ],
   "source": [
    "k_means = KMeans(n_clusters = 5,random_state=1)\n",
    "k_means.fit(iris)\n",
    "k_means.inertia_"
   ]
  },
  {
   "cell_type": "code",
   "execution_count": 36,
   "id": "a172ddd8",
   "metadata": {},
   "outputs": [
    {
     "data": {
      "text/plain": [
       "77.20635119416777"
      ]
     },
     "execution_count": 36,
     "metadata": {},
     "output_type": "execute_result"
    }
   ],
   "source": [
    "k_means = KMeans(n_clusters = 6,random_state=1)\n",
    "k_means.fit(iris)\n",
    "k_means.inertia_"
   ]
  },
  {
   "cell_type": "markdown",
   "id": "2171c982",
   "metadata": {},
   "source": [
    "* WSS reduces as K keeps increasing"
   ]
  },
  {
   "cell_type": "markdown",
   "id": "80e34b03",
   "metadata": {},
   "source": [
    "**Calculating WSS for other values of K - Elbow Method**"
   ]
  },
  {
   "cell_type": "code",
   "execution_count": 37,
   "id": "d98a306b",
   "metadata": {},
   "outputs": [],
   "source": [
    "wss =[] "
   ]
  },
  {
   "cell_type": "code",
   "execution_count": 38,
   "id": "722c81cd",
   "metadata": {},
   "outputs": [],
   "source": [
    "for i in range(1,11):\n",
    "    KM = KMeans(n_clusters=i,random_state=1)\n",
    "    KM.fit(iris)\n",
    "    wss.append(KM.inertia_)"
   ]
  },
  {
   "cell_type": "code",
   "execution_count": 39,
   "id": "e6ce1e20",
   "metadata": {},
   "outputs": [
    {
     "data": {
      "text/plain": [
       "[571.9999999999999,\n",
       " 216.28097971370974,\n",
       " 133.09491718320885,\n",
       " 108.234427656237,\n",
       " 88.14386234336087,\n",
       " 77.20635119416777,\n",
       " 69.16749341693682,\n",
       " 61.23726929824867,\n",
       " 52.20112169938683,\n",
       " 48.151075311164355]"
      ]
     },
     "execution_count": 39,
     "metadata": {},
     "output_type": "execute_result"
    }
   ],
   "source": [
    "wss"
   ]
  },
  {
   "cell_type": "code",
   "execution_count": 40,
   "id": "f13ce50c",
   "metadata": {},
   "outputs": [],
   "source": [
    "a=[1,2,3,4,5,6,7,8,9,10]"
   ]
  },
  {
   "cell_type": "code",
   "execution_count": 41,
   "id": "74c3c7e0",
   "metadata": {},
   "outputs": [
    {
     "data": {
      "image/png": "[encoded data removed]",
      "text/plain": [
       "<Figure size 432x288 with 1 Axes>"
      ]
     },
     "metadata": {
      "needs_background": "light"
     },
     "output_type": "display_data"
    }
   ],
   "source": [
    "sns.pointplot(a, wss);"
   ]
  },
  {
   "cell_type": "code",
   "execution_count": 42,
   "id": "e34380b5",
   "metadata": {},
   "outputs": [
    {
     "data": {
      "image/png": "[encoded data removed]",
      "text/plain": [
       "<Figure size 432x288 with 1 Axes>"
      ]
     },
     "metadata": {
      "needs_background": "light"
     },
     "output_type": "display_data"
    }
   ],
   "source": [
    "plt.plot(range(1,11), wss);"
   ]
  },
  {
   "cell_type": "markdown",
   "id": "bba91607",
   "metadata": {},
   "source": [
    "* We can clearly see why it is called 'The Elbow Method' from the above graph. The optimum clusters is where the elbow occurs. This is when the within cluster sum of squares (WCSS) doesn't decrease significantly with every literation."
   ]
  },
  {
   "cell_type": "markdown",
   "id": "c1888afe",
   "metadata": {},
   "source": [
    "**KMeans with K=3**"
   ]
  },
  {
   "cell_type": "code",
   "execution_count": 43,
   "id": "8d689492",
   "metadata": {},
   "outputs": [],
   "source": [
    "k_means = KMeans(n_clusters = 3,random_state=1)\n",
    "k_means.fit(iris)\n",
    "labels = k_means.labels_"
   ]
  },
  {
   "cell_type": "markdown",
   "id": "c4030c9d",
   "metadata": {},
   "source": [
    "**Cluster evaluation for 3 clusters: the silhouette score**"
   ]
  },
  {
   "cell_type": "code",
   "execution_count": 44,
   "id": "fed5709f",
   "metadata": {},
   "outputs": [],
   "source": [
    "from sklearn.metrics import silhouette_samples, silhouette_score"
   ]
  },
  {
   "cell_type": "code",
   "execution_count": 45,
   "id": "0e426456",
   "metadata": {},
   "outputs": [
    {
     "data": {
      "text/plain": [
       "0.46244579787978707"
      ]
     },
     "execution_count": 45,
     "metadata": {},
     "output_type": "execute_result"
    }
   ],
   "source": [
    "# Calculating silhouette_score\n",
    "silhouette_score(iris,labels,random_state=1)"
   ]
  },
  {
   "cell_type": "markdown",
   "id": "23807447",
   "metadata": {},
   "source": [
    "**KMeans with K=4**"
   ]
  },
  {
   "cell_type": "code",
   "execution_count": 46,
   "id": "44744160",
   "metadata": {},
   "outputs": [],
   "source": [
    "k_means = KMeans(n_clusters = 4,random_state=1)\n",
    "k_means.fit(iris)\n",
    "labels = k_means.labels_"
   ]
  },
  {
   "cell_type": "markdown",
   "id": "317b2b41",
   "metadata": {},
   "source": [
    "**Cluster evaluation for 4 clusters**\n"
   ]
  },
  {
   "cell_type": "code",
   "execution_count": 47,
   "id": "cfd13602",
   "metadata": {},
   "outputs": [
    {
     "data": {
      "text/plain": [
       "0.41657500975702366"
      ]
     },
     "execution_count": 47,
     "metadata": {},
     "output_type": "execute_result"
    }
   ],
   "source": [
    "silhouette_score(iris,labels,random_state=1)"
   ]
  },
  {
   "cell_type": "markdown",
   "id": "8becf364",
   "metadata": {},
   "source": [
    "* silhouette score is better for 4 clusters than for 3 clusters. So, final clusters will be 4"
   ]
  },
  {
   "cell_type": "code",
   "execution_count": 56,
   "id": "9e9cf3a3",
   "metadata": {},
   "outputs": [],
   "source": [
    "kmeans = KMeans(n_clusters = 3 , init = 'k-means++' ,\n",
    "                max_iter = 300 , n_init = 10 , random_state = 0)\n",
    "y_kmeans = kmeans.fit_predict(x)"
   ]
  },
  {
   "cell_type": "code",
   "execution_count": 58,
   "id": "5b90263a",
   "metadata": {},
   "outputs": [
    {
     "data": {
      "image/png": "[encoded data removed]",
      "text/plain": [
       "<Figure size 432x288 with 1 Axes>"
      ]
     },
     "metadata": {
      "needs_background": "light"
     },
     "output_type": "display_data"
    }
   ],
   "source": [
    "# Visualising the clusters - On the first two columns\n",
    "plt.scatter(x[y_kmeans == 0 , 0] , x[y_kmeans == 0 , 1] , \n",
    "            s = 100 , c = 'red' , label = 'Iris-setosa')\n",
    "\n",
    "plt.scatter(x[y_kmeans == 1 , 0] , x[y_kmeans == 1 , 1] , \n",
    "            s = 100 , c = 'blue' , label = 'Iris-versicolour')\n",
    "\n",
    "plt.scatter(x[y_kmeans == 2 , 0] , x[y_kmeans == 2 , 1] , \n",
    "            s = 100 , c = 'red' , label = 'Iris-setosa')\n",
    "\n",
    "# Plotting the centroids of the clusters\n",
    "plt.scatter(kmeans.cluster_centers_[: , 0] , kmeans.cluster_centers_[: , 1] ,  \n",
    "            s = 100 , c = 'yellow' , label = 'Centroids')\n",
    "\n",
    "plt.legend();"
   ]
  },
  {
   "cell_type": "markdown",
   "id": "049719e9",
   "metadata": {},
   "source": [
    "**Appending Clusters to the original dataset**"
   ]
  },
  {
   "cell_type": "code",
   "execution_count": 48,
   "id": "7b466853",
   "metadata": {},
   "outputs": [
    {
     "data": {
      "text/html": [
       "<div>\n",
       "<style scoped>\n",
       "    .dataframe tbody tr th:only-of-type {\n",
       "        vertical-align: middle;\n",
       "    }\n",
       "\n",
       "    .dataframe tbody tr th {\n",
       "        vertical-align: top;\n",
       "    }\n",
       "\n",
       "    .dataframe thead th {\n",
       "        text-align: right;\n",
       "    }\n",
       "</style>\n",
       "<table border=\"1\" class=\"dataframe\">\n",
       "  <thead>\n",
       "    <tr style=\"text-align: right;\">\n",
       "      <th></th>\n",
       "      <th>SepalLengthCm</th>\n",
       "      <th>SepalWidthCm</th>\n",
       "      <th>PetalLengthCm</th>\n",
       "      <th>PetalWidthCm</th>\n",
       "      <th>Species</th>\n",
       "      <th>Clus_kmeans4</th>\n",
       "    </tr>\n",
       "  </thead>\n",
       "  <tbody>\n",
       "    <tr>\n",
       "      <th>0</th>\n",
       "      <td>5.1</td>\n",
       "      <td>3.5</td>\n",
       "      <td>1.4</td>\n",
       "      <td>0.2</td>\n",
       "      <td>0</td>\n",
       "      <td>0</td>\n",
       "    </tr>\n",
       "    <tr>\n",
       "      <th>1</th>\n",
       "      <td>4.9</td>\n",
       "      <td>3.0</td>\n",
       "      <td>1.4</td>\n",
       "      <td>0.2</td>\n",
       "      <td>0</td>\n",
       "      <td>0</td>\n",
       "    </tr>\n",
       "    <tr>\n",
       "      <th>2</th>\n",
       "      <td>4.7</td>\n",
       "      <td>3.2</td>\n",
       "      <td>1.3</td>\n",
       "      <td>0.2</td>\n",
       "      <td>0</td>\n",
       "      <td>0</td>\n",
       "    </tr>\n",
       "    <tr>\n",
       "      <th>3</th>\n",
       "      <td>4.6</td>\n",
       "      <td>3.1</td>\n",
       "      <td>1.5</td>\n",
       "      <td>0.2</td>\n",
       "      <td>0</td>\n",
       "      <td>0</td>\n",
       "    </tr>\n",
       "    <tr>\n",
       "      <th>4</th>\n",
       "      <td>5.0</td>\n",
       "      <td>3.6</td>\n",
       "      <td>1.4</td>\n",
       "      <td>0.2</td>\n",
       "      <td>0</td>\n",
       "      <td>0</td>\n",
       "    </tr>\n",
       "    <tr>\n",
       "      <th>...</th>\n",
       "      <td>...</td>\n",
       "      <td>...</td>\n",
       "      <td>...</td>\n",
       "      <td>...</td>\n",
       "      <td>...</td>\n",
       "      <td>...</td>\n",
       "    </tr>\n",
       "    <tr>\n",
       "      <th>145</th>\n",
       "      <td>6.7</td>\n",
       "      <td>3.0</td>\n",
       "      <td>5.2</td>\n",
       "      <td>2.3</td>\n",
       "      <td>2</td>\n",
       "      <td>3</td>\n",
       "    </tr>\n",
       "    <tr>\n",
       "      <th>146</th>\n",
       "      <td>6.3</td>\n",
       "      <td>2.5</td>\n",
       "      <td>5.0</td>\n",
       "      <td>1.9</td>\n",
       "      <td>2</td>\n",
       "      <td>1</td>\n",
       "    </tr>\n",
       "    <tr>\n",
       "      <th>147</th>\n",
       "      <td>6.5</td>\n",
       "      <td>3.0</td>\n",
       "      <td>5.2</td>\n",
       "      <td>2.0</td>\n",
       "      <td>2</td>\n",
       "      <td>1</td>\n",
       "    </tr>\n",
       "    <tr>\n",
       "      <th>148</th>\n",
       "      <td>6.2</td>\n",
       "      <td>3.4</td>\n",
       "      <td>5.4</td>\n",
       "      <td>2.3</td>\n",
       "      <td>2</td>\n",
       "      <td>3</td>\n",
       "    </tr>\n",
       "    <tr>\n",
       "      <th>149</th>\n",
       "      <td>5.9</td>\n",
       "      <td>3.0</td>\n",
       "      <td>5.1</td>\n",
       "      <td>1.8</td>\n",
       "      <td>2</td>\n",
       "      <td>1</td>\n",
       "    </tr>\n",
       "  </tbody>\n",
       "</table>\n",
       "<p>143 rows × 6 columns</p>\n",
       "</div>"
      ],
      "text/plain": [
       "     SepalLengthCm  SepalWidthCm  PetalLengthCm  PetalWidthCm  Species  \\\n",
       "0              5.1           3.5            1.4           0.2        0   \n",
       "1              4.9           3.0            1.4           0.2        0   \n",
       "2              4.7           3.2            1.3           0.2        0   \n",
       "3              4.6           3.1            1.5           0.2        0   \n",
       "4              5.0           3.6            1.4           0.2        0   \n",
       "..             ...           ...            ...           ...      ...   \n",
       "145            6.7           3.0            5.2           2.3        2   \n",
       "146            6.3           2.5            5.0           1.9        2   \n",
       "147            6.5           3.0            5.2           2.0        2   \n",
       "148            6.2           3.4            5.4           2.3        2   \n",
       "149            5.9           3.0            5.1           1.8        2   \n",
       "\n",
       "     Clus_kmeans4  \n",
       "0               0  \n",
       "1               0  \n",
       "2               0  \n",
       "3               0  \n",
       "4               0  \n",
       "..            ...  \n",
       "145             3  \n",
       "146             1  \n",
       "147             1  \n",
       "148             3  \n",
       "149             1  \n",
       "\n",
       "[143 rows x 6 columns]"
      ]
     },
     "execution_count": 48,
     "metadata": {},
     "output_type": "execute_result"
    }
   ],
   "source": [
    "iris_df[\"Clus_kmeans4\"] = labels\n",
    "iris_df"
   ]
  },
  {
   "cell_type": "markdown",
   "id": "6cfdddbb",
   "metadata": {},
   "source": [
    "**Cluster Profiling**"
   ]
  },
  {
   "cell_type": "code",
   "execution_count": 49,
   "id": "951a759e",
   "metadata": {},
   "outputs": [
    {
     "data": {
      "text/plain": [
       "0    44\n",
       "1    49\n",
       "2    21\n",
       "3    29\n",
       "Name: Clus_kmeans4, dtype: int64"
      ]
     },
     "execution_count": 49,
     "metadata": {},
     "output_type": "execute_result"
    }
   ],
   "source": [
    "iris_df.Clus_kmeans4.value_counts().sort_index()"
   ]
  },
  {
   "cell_type": "code",
   "execution_count": 51,
   "id": "999bf333",
   "metadata": {},
   "outputs": [
    {
     "data": {
      "text/html": [
       "<div>\n",
       "<style scoped>\n",
       "    .dataframe tbody tr th:only-of-type {\n",
       "        vertical-align: middle;\n",
       "    }\n",
       "\n",
       "    .dataframe tbody tr th {\n",
       "        vertical-align: top;\n",
       "    }\n",
       "\n",
       "    .dataframe thead th {\n",
       "        text-align: right;\n",
       "    }\n",
       "</style>\n",
       "<table border=\"1\" class=\"dataframe\">\n",
       "  <thead>\n",
       "    <tr style=\"text-align: right;\">\n",
       "      <th></th>\n",
       "      <th>SepalLengthCm</th>\n",
       "      <th>SepalWidthCm</th>\n",
       "      <th>PetalLengthCm</th>\n",
       "      <th>PetalWidthCm</th>\n",
       "      <th>Species</th>\n",
       "      <th>freq</th>\n",
       "    </tr>\n",
       "    <tr>\n",
       "      <th>Clus_kmeans4</th>\n",
       "      <th></th>\n",
       "      <th></th>\n",
       "      <th></th>\n",
       "      <th></th>\n",
       "      <th></th>\n",
       "      <th></th>\n",
       "    </tr>\n",
       "  </thead>\n",
       "  <tbody>\n",
       "    <tr>\n",
       "      <th>0</th>\n",
       "      <td>4.990909</td>\n",
       "      <td>3.402273</td>\n",
       "      <td>1.465909</td>\n",
       "      <td>0.250000</td>\n",
       "      <td>0.000000</td>\n",
       "      <td>44</td>\n",
       "    </tr>\n",
       "    <tr>\n",
       "      <th>1</th>\n",
       "      <td>6.144898</td>\n",
       "      <td>2.889796</td>\n",
       "      <td>4.783673</td>\n",
       "      <td>1.610204</td>\n",
       "      <td>1.408163</td>\n",
       "      <td>49</td>\n",
       "    </tr>\n",
       "    <tr>\n",
       "      <th>2</th>\n",
       "      <td>5.519048</td>\n",
       "      <td>2.457143</td>\n",
       "      <td>3.842857</td>\n",
       "      <td>1.166667</td>\n",
       "      <td>1.047619</td>\n",
       "      <td>21</td>\n",
       "    </tr>\n",
       "    <tr>\n",
       "      <th>3</th>\n",
       "      <td>6.996552</td>\n",
       "      <td>3.158621</td>\n",
       "      <td>5.800000</td>\n",
       "      <td>2.124138</td>\n",
       "      <td>1.931034</td>\n",
       "      <td>29</td>\n",
       "    </tr>\n",
       "  </tbody>\n",
       "</table>\n",
       "</div>"
      ],
      "text/plain": [
       "              SepalLengthCm  SepalWidthCm  PetalLengthCm  PetalWidthCm  \\\n",
       "Clus_kmeans4                                                             \n",
       "0                  4.990909      3.402273       1.465909      0.250000   \n",
       "1                  6.144898      2.889796       4.783673      1.610204   \n",
       "2                  5.519048      2.457143       3.842857      1.166667   \n",
       "3                  6.996552      3.158621       5.800000      2.124138   \n",
       "\n",
       "               Species  freq  \n",
       "Clus_kmeans4                  \n",
       "0             0.000000    44  \n",
       "1             1.408163    49  \n",
       "2             1.047619    21  \n",
       "3             1.931034    29  "
      ]
     },
     "execution_count": 51,
     "metadata": {},
     "output_type": "execute_result"
    }
   ],
   "source": [
    "clust_profile=iris_df\n",
    "clust_profile=clust_profile.groupby('Clus_kmeans4').mean()\n",
    "clust_profile['freq']=iris_df.Clus_kmeans4.value_counts().sort_index()\n",
    "clust_profile"
   ]
  },
  {
   "cell_type": "code",
   "execution_count": 61,
   "id": "6c5c3e8c",
   "metadata": {},
   "outputs": [],
   "source": [
    "from mpl_toolkits.mplot3d import Axes3D"
   ]
  },
  {
   "cell_type": "code",
   "execution_count": 62,
   "id": "52a19def",
   "metadata": {},
   "outputs": [
    {
     "data": {
      "image/png": "[encoded data removed]",
      "text/plain": [
       "<Figure size 504x360 with 1 Axes>"
      ]
     },
     "metadata": {
      "needs_background": "light"
     },
     "output_type": "display_data"
    }
   ],
   "source": [
    "fig = plt.figure(1, figsize=(7,5))\n",
    "ax = Axes3D(fig, rect=[0, 0, 0.95, 1], elev=48, azim=134)\n",
    "ax.scatter(x[:, 3], x[:, 0], x[:, 2], edgecolor=\"k\", s=50)\n",
    "ax.set_xlabel(\"Petal width\")\n",
    "ax.set_ylabel(\"Sepal length\")\n",
    "ax.set_zlabel(\"Petal length\")\n",
    "plt.title(\"Iris Clustering K Means=3\", fontsize=14)\n",
    "plt.show()"
   ]
  },
  {
   "cell_type": "markdown",
   "id": "618bdb73",
   "metadata": {},
   "source": [
    "**Creating the Dendrogram**"
   ]
  },
  {
   "cell_type": "code",
   "execution_count": 95,
   "id": "85735b00",
   "metadata": {},
   "outputs": [
    {
     "data": {
      "image/png": "[encoded data removed]",
      "text/plain": [
       "<Figure size 864x576 with 1 Axes>"
      ]
     },
     "metadata": {
      "needs_background": "light"
     },
     "output_type": "display_data"
    }
   ],
   "source": [
    "from scipy.cluster.hierarchy import linkage,dendrogram\n",
    "#Hierachy Clustering \n",
    "hier=linkage(x,\"ward\")\n",
    "max_d=7.08\n",
    "plt.figure(figsize=(12,8))\n",
    "plt.title('Iris Hierarchical Clustering Dendrogram')\n",
    "plt.xlabel('Species')\n",
    "plt.ylabel('distance')\n",
    "dendrogram(\n",
    "    hier,\n",
    "    truncate_mode='lastp',  \n",
    "    p=50,                  \n",
    "    leaf_rotation=90.,      \n",
    "    leaf_font_size=8.,     \n",
    ")\n",
    "plt.axhline(y=max_d, c='k')\n",
    "plt.show()\n"
   ]
  },
  {
   "cell_type": "code",
   "execution_count": 70,
   "id": "10799e44",
   "metadata": {},
   "outputs": [],
   "source": [
    "from scipy.cluster.hierarchy import fcluster"
   ]
  },
  {
   "cell_type": "code",
   "execution_count": 72,
   "id": "9b5d9321",
   "metadata": {},
   "outputs": [
    {
     "data": {
      "text/plain": [
       "array([1, 1, 1, 1, 1, 1, 1, 1, 1, 1, 1, 1, 1, 1, 1, 1, 1, 1, 1, 1, 1, 1,\n",
       "       1, 1, 1, 1, 1, 1, 1, 1, 1, 1, 1, 1, 1, 1, 1, 1, 1, 1, 1, 1, 1, 1,\n",
       "       1, 3, 3, 3, 3, 3, 3, 3, 3, 3, 3, 3, 3, 3, 3, 3, 3, 3, 3, 3, 3, 3,\n",
       "       3, 3, 3, 3, 3, 2, 3, 3, 3, 3, 3, 3, 3, 3, 3, 3, 3, 3, 3, 3, 3, 3,\n",
       "       3, 3, 3, 3, 3, 3, 2, 3, 2, 2, 2, 2, 3, 2, 2, 2, 2, 2, 2, 3, 3, 2,\n",
       "       2, 2, 2, 3, 2, 3, 2, 3, 2, 2, 3, 3, 2, 2, 2, 2, 2, 3, 3, 2, 2, 2,\n",
       "       3, 2, 2, 2, 2, 2, 2, 3, 2, 2, 3], dtype=int32)"
      ]
     },
     "execution_count": 72,
     "metadata": {},
     "output_type": "execute_result"
    }
   ],
   "source": [
    "# Set criterion as maxclust,then create 3 clusters, and store the result in another object 'clusters'\n",
    "\n",
    "clusters = fcluster(hier, 3, criterion='maxclust')\n",
    "clusters"
   ]
  },
  {
   "cell_type": "code",
   "execution_count": 83,
   "id": "f4686d12",
   "metadata": {},
   "outputs": [
    {
     "data": {
      "text/html": [
       "<div>\n",
       "<style scoped>\n",
       "    .dataframe tbody tr th:only-of-type {\n",
       "        vertical-align: middle;\n",
       "    }\n",
       "\n",
       "    .dataframe tbody tr th {\n",
       "        vertical-align: top;\n",
       "    }\n",
       "\n",
       "    .dataframe thead th {\n",
       "        text-align: right;\n",
       "    }\n",
       "</style>\n",
       "<table border=\"1\" class=\"dataframe\">\n",
       "  <thead>\n",
       "    <tr style=\"text-align: right;\">\n",
       "      <th></th>\n",
       "      <th>SepalLengthCm</th>\n",
       "      <th>SepalWidthCm</th>\n",
       "      <th>PetalLengthCm</th>\n",
       "      <th>PetalWidthCm</th>\n",
       "      <th>Species</th>\n",
       "      <th>freq</th>\n",
       "      <th>clusters</th>\n",
       "    </tr>\n",
       "    <tr>\n",
       "      <th>Clus_kmeans4</th>\n",
       "      <th></th>\n",
       "      <th></th>\n",
       "      <th></th>\n",
       "      <th></th>\n",
       "      <th></th>\n",
       "      <th></th>\n",
       "      <th></th>\n",
       "    </tr>\n",
       "  </thead>\n",
       "  <tbody>\n",
       "    <tr>\n",
       "      <th>0</th>\n",
       "      <td>4.990909</td>\n",
       "      <td>3.402273</td>\n",
       "      <td>1.465909</td>\n",
       "      <td>0.250000</td>\n",
       "      <td>0.000000</td>\n",
       "      <td>44.0</td>\n",
       "      <td>44</td>\n",
       "    </tr>\n",
       "    <tr>\n",
       "      <th>1</th>\n",
       "      <td>6.144898</td>\n",
       "      <td>2.889796</td>\n",
       "      <td>4.783673</td>\n",
       "      <td>1.610204</td>\n",
       "      <td>1.408163</td>\n",
       "      <td>49.0</td>\n",
       "      <td>49</td>\n",
       "    </tr>\n",
       "    <tr>\n",
       "      <th>2</th>\n",
       "      <td>5.519048</td>\n",
       "      <td>2.457143</td>\n",
       "      <td>3.842857</td>\n",
       "      <td>1.166667</td>\n",
       "      <td>1.047619</td>\n",
       "      <td>21.0</td>\n",
       "      <td>21</td>\n",
       "    </tr>\n",
       "    <tr>\n",
       "      <th>3</th>\n",
       "      <td>6.996552</td>\n",
       "      <td>3.158621</td>\n",
       "      <td>5.800000</td>\n",
       "      <td>2.124138</td>\n",
       "      <td>1.931034</td>\n",
       "      <td>29.0</td>\n",
       "      <td>29</td>\n",
       "    </tr>\n",
       "  </tbody>\n",
       "</table>\n",
       "</div>"
      ],
      "text/plain": [
       "              SepalLengthCm  SepalWidthCm  PetalLengthCm  PetalWidthCm  \\\n",
       "Clus_kmeans4                                                             \n",
       "0                  4.990909      3.402273       1.465909      0.250000   \n",
       "1                  6.144898      2.889796       4.783673      1.610204   \n",
       "2                  5.519048      2.457143       3.842857      1.166667   \n",
       "3                  6.996552      3.158621       5.800000      2.124138   \n",
       "\n",
       "               Species  freq  clusters  \n",
       "Clus_kmeans4                            \n",
       "0             0.000000  44.0        44  \n",
       "1             1.408163  49.0        49  \n",
       "2             1.047619  21.0        21  \n",
       "3             1.931034  29.0        29  "
      ]
     },
     "execution_count": 83,
     "metadata": {},
     "output_type": "execute_result"
    }
   ],
   "source": [
    "clust_profile=clust_profile.groupby('Clus_kmeans4').mean()\n",
    "clust_profile['clusters']=iris_df.Clus_kmeans4.value_counts().sort_index()\n",
    "clust_profile"
   ]
  },
  {
   "cell_type": "markdown",
   "id": "84083e79",
   "metadata": {},
   "source": [
    "**Cluster Frequency**"
   ]
  },
  {
   "cell_type": "code",
   "execution_count": 76,
   "id": "0914a39a",
   "metadata": {},
   "outputs": [
    {
     "data": {
      "text/plain": [
       "21    1\n",
       "29    1\n",
       "44    1\n",
       "49    1\n",
       "Name: clusters, dtype: int64"
      ]
     },
     "execution_count": 76,
     "metadata": {},
     "output_type": "execute_result"
    }
   ],
   "source": [
    "clust_profile.clusters.value_counts().sort_index()"
   ]
  },
  {
   "cell_type": "markdown",
   "id": "eb876e96",
   "metadata": {},
   "source": [
    "**Cluster Profiles**"
   ]
  },
  {
   "cell_type": "code",
   "execution_count": 81,
   "id": "2015050c",
   "metadata": {},
   "outputs": [
    {
     "data": {
      "text/html": [
       "<div>\n",
       "<style scoped>\n",
       "    .dataframe tbody tr th:only-of-type {\n",
       "        vertical-align: middle;\n",
       "    }\n",
       "\n",
       "    .dataframe tbody tr th {\n",
       "        vertical-align: top;\n",
       "    }\n",
       "\n",
       "    .dataframe thead th {\n",
       "        text-align: right;\n",
       "    }\n",
       "</style>\n",
       "<table border=\"1\" class=\"dataframe\">\n",
       "  <thead>\n",
       "    <tr style=\"text-align: right;\">\n",
       "      <th></th>\n",
       "      <th>SepalWidthCm</th>\n",
       "      <th>PetalLengthCm</th>\n",
       "      <th>PetalWidthCm</th>\n",
       "      <th>Species</th>\n",
       "      <th>freq</th>\n",
       "      <th>clusters</th>\n",
       "    </tr>\n",
       "    <tr>\n",
       "      <th>clusters</th>\n",
       "      <th></th>\n",
       "      <th></th>\n",
       "      <th></th>\n",
       "      <th></th>\n",
       "      <th></th>\n",
       "      <th></th>\n",
       "    </tr>\n",
       "  </thead>\n",
       "  <tbody>\n",
       "    <tr>\n",
       "      <th>21</th>\n",
       "      <td>2.457143</td>\n",
       "      <td>3.842857</td>\n",
       "      <td>1.166667</td>\n",
       "      <td>1.047619</td>\n",
       "      <td>21.0</td>\n",
       "      <td>1</td>\n",
       "    </tr>\n",
       "    <tr>\n",
       "      <th>29</th>\n",
       "      <td>3.158621</td>\n",
       "      <td>5.800000</td>\n",
       "      <td>2.124138</td>\n",
       "      <td>1.931034</td>\n",
       "      <td>29.0</td>\n",
       "      <td>1</td>\n",
       "    </tr>\n",
       "    <tr>\n",
       "      <th>44</th>\n",
       "      <td>3.402273</td>\n",
       "      <td>1.465909</td>\n",
       "      <td>0.250000</td>\n",
       "      <td>0.000000</td>\n",
       "      <td>44.0</td>\n",
       "      <td>1</td>\n",
       "    </tr>\n",
       "    <tr>\n",
       "      <th>49</th>\n",
       "      <td>2.889796</td>\n",
       "      <td>4.783673</td>\n",
       "      <td>1.610204</td>\n",
       "      <td>1.408163</td>\n",
       "      <td>49.0</td>\n",
       "      <td>1</td>\n",
       "    </tr>\n",
       "  </tbody>\n",
       "</table>\n",
       "</div>"
      ],
      "text/plain": [
       "          SepalWidthCm  PetalLengthCm  PetalWidthCm   Species  freq  clusters\n",
       "clusters                                                                     \n",
       "21            2.457143       3.842857      1.166667  1.047619  21.0         1\n",
       "29            3.158621       5.800000      2.124138  1.931034  29.0         1\n",
       "44            3.402273       1.465909      0.250000  0.000000  44.0         1\n",
       "49            2.889796       4.783673      1.610204  1.408163  49.0         1"
      ]
     },
     "execution_count": 81,
     "metadata": {},
     "output_type": "execute_result"
    }
   ],
   "source": [
    "aggdata=clust_profile.iloc[:,1:8].groupby('clusters').mean()\n",
    "aggdata['clusters']=clust_profile.clusters.value_counts().sort_index()\n",
    "aggdata"
   ]
  },
  {
   "cell_type": "markdown",
   "id": "f41f1c5a",
   "metadata": {},
   "source": [
    "**Using Agglomerative Clustering**"
   ]
  },
  {
   "cell_type": "code",
   "execution_count": 79,
   "id": "531f54cd",
   "metadata": {},
   "outputs": [],
   "source": [
    "from sklearn.cluster import AgglomerativeClustering"
   ]
  },
  {
   "cell_type": "code",
   "execution_count": 87,
   "id": "890bd294",
   "metadata": {},
   "outputs": [
    {
     "name": "stdout",
     "output_type": "stream",
     "text": [
      "[0 0 0 0 0 0 0 0 0 0 0 0 0 0 0 0 0 0 0 0 0 0 0 0 0 0 0 0 0 0 0 0 0 0 0 0 0\n",
      " 0 0 0 0 0 0 0 0 1 2 1 2 2 2 2 2 2 2 2 2 2 2 2 2 2 2 2 2 2 2 2 2 2 2 2 2 2\n",
      " 2 2 2 2 2 2 2 2 2 2 2 2 2 2 2 2 2 2 2 2 1 2 1 2 1 1 2 1 2 1 1 2 1 2 2 1 2\n",
      " 1 1 2 1 2 1 2 1 1 2 2 2 1 1 1 2 2 2 1 1 2 2 1 1 1 1 1 1 2 2 1 2]\n"
     ]
    }
   ],
   "source": [
    "cluster = AgglomerativeClustering(n_clusters=3, affinity='euclidean', linkage='average')\n",
    "Cluster_agglo=cluster.fit_predict(iris_df.iloc[:,1:6])\n",
    "print(Cluster_agglo)"
   ]
  },
  {
   "cell_type": "code",
   "execution_count": 88,
   "id": "543ed101",
   "metadata": {},
   "outputs": [],
   "source": [
    "iris_df[\"Agglo_CLusters\"]=Cluster_agglo"
   ]
  },
  {
   "cell_type": "code",
   "execution_count": 89,
   "id": "7b99fb1e",
   "metadata": {},
   "outputs": [
    {
     "data": {
      "text/plain": [
       "Index(['SepalLengthCm', 'SepalWidthCm', 'PetalLengthCm', 'PetalWidthCm',\n",
       "       'Species', 'Clus_kmeans4', 'Agglo_CLusters'],\n",
       "      dtype='object')"
      ]
     },
     "execution_count": 89,
     "metadata": {},
     "output_type": "execute_result"
    }
   ],
   "source": [
    "iris_df.columns"
   ]
  },
  {
   "cell_type": "code",
   "execution_count": 91,
   "id": "7b0a5cfa",
   "metadata": {},
   "outputs": [
    {
     "data": {
      "text/html": [
       "<div>\n",
       "<style scoped>\n",
       "    .dataframe tbody tr th:only-of-type {\n",
       "        vertical-align: middle;\n",
       "    }\n",
       "\n",
       "    .dataframe tbody tr th {\n",
       "        vertical-align: top;\n",
       "    }\n",
       "\n",
       "    .dataframe thead th {\n",
       "        text-align: right;\n",
       "    }\n",
       "</style>\n",
       "<table border=\"1\" class=\"dataframe\">\n",
       "  <thead>\n",
       "    <tr style=\"text-align: right;\">\n",
       "      <th></th>\n",
       "      <th>SepalLengthCm</th>\n",
       "      <th>SepalWidthCm</th>\n",
       "      <th>PetalLengthCm</th>\n",
       "      <th>PetalWidthCm</th>\n",
       "      <th>Species</th>\n",
       "      <th>Clus_kmeans4</th>\n",
       "      <th>Freq</th>\n",
       "    </tr>\n",
       "    <tr>\n",
       "      <th>Agglo_CLusters</th>\n",
       "      <th></th>\n",
       "      <th></th>\n",
       "      <th></th>\n",
       "      <th></th>\n",
       "      <th></th>\n",
       "      <th></th>\n",
       "      <th></th>\n",
       "    </tr>\n",
       "  </thead>\n",
       "  <tbody>\n",
       "    <tr>\n",
       "      <th>0</th>\n",
       "      <td>4.980000</td>\n",
       "      <td>3.377778</td>\n",
       "      <td>1.462222</td>\n",
       "      <td>0.251111</td>\n",
       "      <td>0.000000</td>\n",
       "      <td>0.044444</td>\n",
       "      <td>45</td>\n",
       "    </tr>\n",
       "    <tr>\n",
       "      <th>1</th>\n",
       "      <td>6.996552</td>\n",
       "      <td>3.158621</td>\n",
       "      <td>5.800000</td>\n",
       "      <td>2.124138</td>\n",
       "      <td>1.931034</td>\n",
       "      <td>3.000000</td>\n",
       "      <td>29</td>\n",
       "    </tr>\n",
       "    <tr>\n",
       "      <th>2</th>\n",
       "      <td>5.978261</td>\n",
       "      <td>2.766667</td>\n",
       "      <td>4.547826</td>\n",
       "      <td>1.494203</td>\n",
       "      <td>1.318841</td>\n",
       "      <td>1.289855</td>\n",
       "      <td>69</td>\n",
       "    </tr>\n",
       "  </tbody>\n",
       "</table>\n",
       "</div>"
      ],
      "text/plain": [
       "                SepalLengthCm  SepalWidthCm  PetalLengthCm  PetalWidthCm  \\\n",
       "Agglo_CLusters                                                             \n",
       "0                    4.980000      3.377778       1.462222      0.251111   \n",
       "1                    6.996552      3.158621       5.800000      2.124138   \n",
       "2                    5.978261      2.766667       4.547826      1.494203   \n",
       "\n",
       "                 Species  Clus_kmeans4  Freq  \n",
       "Agglo_CLusters                                \n",
       "0               0.000000      0.044444    45  \n",
       "1               1.931034      3.000000    29  \n",
       "2               1.318841      1.289855    69  "
      ]
     },
     "execution_count": 91,
     "metadata": {},
     "output_type": "execute_result"
    }
   ],
   "source": [
    "agglo_data=iris_df.groupby('Agglo_CLusters').mean()\n",
    "agglo_data['Freq']=iris_df.Agglo_CLusters.value_counts().sort_index()\n",
    "agglo_data"
   ]
  }
 ],
 "metadata": {
  "kernelspec": {
   "display_name": "Python 3 (ipykernel)",
   "language": "python",
   "name": "python3"
  },
  "language_info": {
   "codemirror_mode": {
    "name": "ipython",
    "version": 3
   },
   "file_extension": ".py",
   "mimetype": "text/x-python",
   "name": "python",
   "nbconvert_exporter": "python",
   "pygments_lexer": "ipython3",
   "version": "3.9.12"
  }
 },
 "nbformat": 4,
 "nbformat_minor": 5
}
